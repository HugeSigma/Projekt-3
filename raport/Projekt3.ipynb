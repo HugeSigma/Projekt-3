{
 "cells": [
  {
   "cell_type": "markdown",
   "id": "f1d9107d-2b73-4ab3-8791-0b89229e3ceb",
   "metadata": {},
   "source": [
    "# Projekt 3\n",
    "\n",
    "Autorzy:\n",
    "\n",
    "- Jakub Kukułowicz 197855\n",
    "- Weronika Wilk 197653\n",
    "  \n",
    "ACiR rok 1; sem 2; grupa 2"
   ]
  },
  {
   "cell_type": "markdown",
   "id": "9c086f7f-4bae-4e5a-8328-87503b384efb",
   "metadata": {},
   "source": [
    "# Wykorzystane biblioteki\n",
    "\n",
    "- MatplotPlusPlus (c++)\n",
    "- AudioFile (c++)\n",
    "- pybind11 (c++)"
   ]
  },
  {
   "cell_type": "markdown",
   "id": "be309efb-de92-4bb7-8242-d078c0d6a2b8",
   "metadata": {},
   "source": [
    "# Uwagi\n",
    "\n",
    "Biblioteki załączone są w pliku CMakeList.txt jako \"submodule\".\n",
    "\n",
    "Funkcje generujące i wizualizujące sygnały zwracają wektor wartości, jakie przyjmuje dany sygnał. Dźwięki przeskalowane są tak, aby przyjmnowały wartości w przedziale <-1,1>.\n",
    "\n",
    "Pliki png zostały zapisane ręcznie, jako \"nazwa_sygnału_wg_nazwy_zmiennej_do_której_przyporządkowany_jest_dany_sygnał.png\"."
   ]
  },
  {
   "cell_type": "code",
   "execution_count": 1,
   "id": "1810c1f7-57b3-447d-b8ca-8a6bd9bbe218",
   "metadata": {},
   "outputs": [],
   "source": [
    "from build.Debug.cmake_example import *"
   ]
  },
  {
   "cell_type": "markdown",
   "id": "28377956-5fa9-4055-a314-5c84db45146a",
   "metadata": {},
   "source": [
    "# Generowanie sygnału (i jego wizualizacja)"
   ]
  },
  {
   "cell_type": "code",
   "execution_count": 21,
   "id": "db2a1b3e-4dc0-4c8b-9f2f-0f78b4ed1470",
   "metadata": {},
   "outputs": [],
   "source": [
    "#sygnał sinusoidalny\n",
    "\n",
    "s1 = sinus(1,2) #f = 1Hz, wyświetlany przedział czasowy = 2s\n",
    "s2 = sinus (2,4) #f = 2Hz, wyświetlany przedział czasowy = 4s"
   ]
  },
  {
   "cell_type": "markdown",
   "id": "9f49de66-c038-4801-8601-01ebedcafd81",
   "metadata": {},
   "source": [
    "![s1 plot](ploty/s1.png)"
   ]
  },
  {
   "cell_type": "markdown",
   "id": "b53911c9-d580-4eff-a716-d63d4e0f665e",
   "metadata": {},
   "source": [
    "![s2 plot](ploty/s2.png)"
   ]
  },
  {
   "cell_type": "code",
   "execution_count": 28,
   "id": "551979a3-15d6-449d-98f8-fedbb9243ae0",
   "metadata": {},
   "outputs": [],
   "source": [
    "#sygnał cosinusoidalny\n",
    "\n",
    "c1 = cosinus(0.5,2) #f = 0.5Hz, wyświetlany przedział czasowy = 2s\n",
    "c2 = cosinus(2,10) #f = 2Hz, wyświetlany przedział czasowy = 10s"
   ]
  },
  {
   "cell_type": "markdown",
   "id": "6f55ca05-1641-4d2b-b62b-d0ac18b85a0b",
   "metadata": {},
   "source": [
    "![c1 plot](ploty/c1.png)"
   ]
  },
  {
   "cell_type": "markdown",
   "id": "21d0cf60-d4b5-4762-8ff5-c53c14b597db",
   "metadata": {},
   "source": [
    "![c2 plot](ploty/c2.png)"
   ]
  },
  {
   "cell_type": "code",
   "execution_count": 24,
   "id": "78bc88b7-5756-4995-822a-1e81183e8635",
   "metadata": {},
   "outputs": [],
   "source": [
    "#sygnał piłokształtny\n",
    "\n",
    "pl1 = pila(1,4,1) #f = 1Hz, wyświetlany przedział czasowy = 4s, amplituda = 1\n",
    "pl2 = pila(2,2,3) #f = 2Hz, wyświetlany przedział czasowy = 2s, amplituda = 3"
   ]
  },
  {
   "cell_type": "markdown",
   "id": "f13ab6e9-7d90-4efc-bc03-583de7c6cb81",
   "metadata": {},
   "source": [
    "![pl1 plot](ploty/pl1.png)"
   ]
  },
  {
   "cell_type": "markdown",
   "id": "801647ef-a4df-4322-8eef-be131188e331",
   "metadata": {},
   "source": [
    "![pl2 plot](ploty/pl2.png)"
   ]
  },
  {
   "cell_type": "code",
   "execution_count": 28,
   "id": "d64f3215-25db-4bb3-a329-aa19002a371c",
   "metadata": {},
   "outputs": [],
   "source": [
    "#sygnał prostokątny\n",
    "\n",
    "pr1 = prostokatny(1,2,1) #f = 1Hz, wyświetlany przedział czasowy = 2s, amplituda = 1\n",
    "pr2 = prostokatny(0.5,10,5) #f = 0.5Hz, wyświetlany przedział czasowy = 10s, amplituda = 5"
   ]
  },
  {
   "cell_type": "markdown",
   "id": "16353a0e-50e7-4f7c-a0e3-f8e1fff579d5",
   "metadata": {},
   "source": [
    "![pr1 plot](ploty/pr1.png)"
   ]
  },
  {
   "cell_type": "markdown",
   "id": "6adba1e8-35f4-4624-8165-a9a8a762babc",
   "metadata": {},
   "source": [
    "![pr2 plot](ploty/pr2.png)"
   ]
  },
  {
   "cell_type": "markdown",
   "id": "0173db59-7f60-4dd1-b406-eb095af6908a",
   "metadata": {},
   "source": [
    "# Wizualizacja wczytywanego sygnału (z plików dźwiękowych)"
   ]
  },
  {
   "cell_type": "code",
   "execution_count": 36,
   "id": "2e8b6938-24a6-4573-8bdb-3d4499bede25",
   "metadata": {},
   "outputs": [],
   "source": [
    "#wizualizacja sygnału wczytywanego z pliku dźwiękowego\n",
    "\n",
    "d1 = wykres_dzwieku(\"test_audio.wav\") #argumentem jest scieżka do pliku dźwiękowego\n",
    "d2 = wykres_dzwieku(\"dc.wav\")\n",
    "d3 = wykres_dzwieku(\"ups.wav\")\n",
    "d4 = wykres_dzwieku(\"boom.wav\")"
   ]
  },
  {
   "cell_type": "markdown",
   "id": "c1d35291-7d89-4457-9661-fce298546e6e",
   "metadata": {},
   "source": [
    "![d1 plot](ploty/d1.png)"
   ]
  },
  {
   "cell_type": "markdown",
   "id": "3c15ae06-7a1a-4b5d-80e3-b26a1db8791c",
   "metadata": {},
   "source": [
    "![d2 plot](ploty/d2.png)"
   ]
  },
  {
   "cell_type": "markdown",
   "id": "548ce434-a6ef-4383-9200-d51dbc31a778",
   "metadata": {},
   "source": [
    "![d3 plot](ploty/d3.png)"
   ]
  },
  {
   "cell_type": "markdown",
   "id": "019b7fcb-d4e8-4e23-9615-4134026d1bf1",
   "metadata": {},
   "source": [
    "![d4 plot](ploty/d4.png)"
   ]
  },
  {
   "cell_type": "markdown",
   "id": "b137dfca-23ba-4191-a6d2-577538212c93",
   "metadata": {},
   "source": [
    "# Filtracja 1D"
   ]
  },
  {
   "cell_type": "code",
   "execution_count": 29,
   "id": "16d22933-406b-4f44-a028-8b6a44a7db1a",
   "metadata": {},
   "outputs": [],
   "source": [
    "#convolution\n",
    "\n",
    "#przykładowy kernel do konwolucji:\n",
    "g1 = krzywa_gaussa(2,5,10) #współczynnik wariancji, mediana, przedział czasowy do wyświetlenia\n",
    "\n",
    "#przefiltrowane sygnały:\n",
    "conv1 = convolution(sinus(1,10),krzywa_gaussa(2,5,10))\n",
    "conv2 = convolution(cosinus(2,10),krzywa_gaussa(2,5,10))\n",
    "conv3 = convolution(sinus(1,10),sinus(1,10))"
   ]
  },
  {
   "cell_type": "markdown",
   "id": "7e59e5e6-2057-4a5e-b7f1-6c0b68ff8925",
   "metadata": {},
   "source": [
    "![g1 plot](ploty/g1.png)"
   ]
  },
  {
   "cell_type": "markdown",
   "id": "197218d8-6ffb-46f7-a3a5-597683fde317",
   "metadata": {},
   "source": [
    "![conv1 plot](ploty/conv1.png)"
   ]
  },
  {
   "cell_type": "markdown",
   "id": "ea7751bf-ac3e-48cb-9b48-bd6761f6d46d",
   "metadata": {},
   "source": [
    "![conv2 plot](ploty/conv2.png)"
   ]
  },
  {
   "cell_type": "markdown",
   "id": "2a1e19e3-f210-4f86-b042-eb83135d9fb2",
   "metadata": {},
   "source": [
    "![conv3 plot](ploty/conv3.png)"
   ]
  },
  {
   "cell_type": "code",
   "execution_count": 8,
   "id": "ed3fae52-f2db-42e5-954c-848473b9f8f7",
   "metadata": {},
   "outputs": [],
   "source": [
    "#wzmocnienie\n",
    "\n",
    "#uwaga - po wzmocnieniu oś x zawsze wskazuje liczbę próbek\n",
    "wzm1 = wzmocnienie(sinus(1,10),5) #funkcja do wzmocnienia, współczynnik wzmocnienia\n",
    "wzm2 = wzmocnienie(cosinus(2,10),0.25)\n",
    "wzm3 = wzmocnienie(sinus(1,2),-1) #ujemny współczynnik wzmocnienia odwraca wykres funkcji"
   ]
  },
  {
   "cell_type": "markdown",
   "id": "b22f63c5-59a0-4120-ad68-2d1e44d7040d",
   "metadata": {},
   "source": [
    "![wzm1 plot](ploty/wzm1.png)"
   ]
  },
  {
   "cell_type": "markdown",
   "id": "74b43799-a171-4cb2-8a64-5eb14a77a3ee",
   "metadata": {},
   "source": [
    "![wzm2 plot](ploty/wzm2.png)"
   ]
  },
  {
   "cell_type": "markdown",
   "id": "b06f8db4-3227-4f61-b42e-27c0f986eab3",
   "metadata": {},
   "source": [
    "![wzm3 plot](ploty/wzm3.png)"
   ]
  },
  {
   "cell_type": "code",
   "execution_count": 15,
   "id": "f23d7a81-b932-4aae-a687-c931d55918d8",
   "metadata": {},
   "outputs": [],
   "source": [
    "#korelacja\n",
    "\n",
    "k1 = korelacja(sinus(1,10),krzywa_gaussa(2,5,10))\n",
    "k2 = korelacja(wykres_dzwieku(\"ups.wav\"),krzywa_gaussa(2,5,10))\n",
    "k3 = korelacja(wykres_dzwieku(\"ups.wav\"),sinus(1,10))\n",
    "k4 = korelacja(sinus(1,10),cosinus(1,10))"
   ]
  },
  {
   "cell_type": "markdown",
   "id": "8b0cba00-62b0-4c37-a1b9-8976c76e9831",
   "metadata": {},
   "source": [
    "![k1 plot](ploty/k1.png)"
   ]
  },
  {
   "cell_type": "markdown",
   "id": "c5f3181c-4159-4be2-9d48-b0c6182192c3",
   "metadata": {},
   "source": [
    "![k2 plot](ploty/k2.png)"
   ]
  },
  {
   "cell_type": "markdown",
   "id": "9445380d-629d-4d6b-9027-37260123d8f8",
   "metadata": {},
   "source": [
    "![k3 plot](ploty/k3.png)"
   ]
  },
  {
   "cell_type": "markdown",
   "id": "227be90b-6c17-48ff-8dcb-bb4b9650fd29",
   "metadata": {},
   "source": [
    "![k4 plot](ploty/k4.png)"
   ]
  },
  {
   "cell_type": "code",
   "execution_count": 27,
   "id": "3c59bac6-3208-4ce6-9b8d-989320b24121",
   "metadata": {},
   "outputs": [],
   "source": [
    "#wzmocnienie i zapis dźwięku\n",
    "\n",
    "wzmd1 = wzmocnienie_dzwieku(\"call.wav\",3,\"CALL.wav\") #ścieżka do pliku, współczynnik wzmocnienia, ścieżka do zapisu"
   ]
  },
  {
   "cell_type": "markdown",
   "id": "c5560e41-6e31-4753-b718-26a8ccbc305f",
   "metadata": {},
   "source": [
    "![wzmd1 plot](ploty/wzmd1.png)"
   ]
  },
  {
   "cell_type": "markdown",
   "id": "c6c8d07f-5614-49f7-85ea-dbac153e147d",
   "metadata": {},
   "source": [
    "# Autokorelacja (funkcjonalność dodatkowa, przypisana do naszej grupy)"
   ]
  },
  {
   "cell_type": "code",
   "execution_count": 24,
   "id": "db4d0cdc-e04f-494f-a99c-2903ba3a58a6",
   "metadata": {},
   "outputs": [],
   "source": [
    "#autokorelacja\n",
    "\n",
    "auto1 = autokorelacja(sinus(1,10))\n",
    "auto2 = autokorelacja(wykres_dzwieku(\"ups.wav\"))\n",
    "auto3 = autokorelacja(wykres_dzwieku(\"dc.wav\"))"
   ]
  },
  {
   "cell_type": "markdown",
   "id": "1a225d6e-d10e-4b5b-a54e-f9525a637551",
   "metadata": {},
   "source": [
    "![auto1 plot](ploty/auto1.png)"
   ]
  },
  {
   "cell_type": "markdown",
   "id": "613da020-1708-4af7-ba9a-12b0a7db827b",
   "metadata": {},
   "source": [
    "![auto2 plot](ploty/auto2.png)"
   ]
  },
  {
   "cell_type": "markdown",
   "id": "c2020570-88b8-4709-91da-8187e08cb3b6",
   "metadata": {},
   "source": [
    "# Dodatkowe uwagi:\n",
    "\n",
    "Nie udało nam się zrealizować filtracji 2D, gdyż bibioteka opencv nie działała na windowsie. Nie mogliśmy więc wczytać żadnego obrazu i sprawdzić poprawności naszego kodu. \n",
    "\n",
    "Ponadto, mieliśmy problemy z obsługą githuba - nasze repozytorium nie jest więc uporządkowane.\n",
    "\n",
    "Tworząc plik źródłowy korzystalićmy z cmake_example, zamieszczonego przez twórców pybinda11 na ich githubie, modyfikując jego poszczególne pliki."
   ]
  }
 ],
 "metadata": {
  "kernelspec": {
   "display_name": "Python 3 (ipykernel)",
   "language": "python",
   "name": "python3"
  },
  "language_info": {
   "codemirror_mode": {
    "name": "ipython",
    "version": 3
   },
   "file_extension": ".py",
   "mimetype": "text/x-python",
   "name": "python",
   "nbconvert_exporter": "python",
   "pygments_lexer": "ipython3",
   "version": "3.12.2"
  }
 },
 "nbformat": 4,
 "nbformat_minor": 5
}
